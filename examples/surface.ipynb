{
 "cells": [
  {
   "cell_type": "code",
   "execution_count": null,
   "id": "d9c4db64",
   "metadata": {},
   "outputs": [
    {
     "data": {
      "text/plain": [
       "[<matplotlib.lines.Line2D at 0x1cf3b22bf50>]"
      ]
     },
     "execution_count": 5,
     "metadata": {},
     "output_type": "execute_result"
    },
    {
     "data": {
      "image/png": "[encoded data removed]",
      "text/plain": [
       "<Figure size 640x480 with 1 Axes>"
      ]
     },
     "metadata": {},
     "output_type": "display_data"
    }
   ],
   "source": [
    "import numpy as np\n",
    "import easypde\n",
    "import matplotlib.pyplot as plt\n",
    "\n",
    "# Scatter points on sphere.\n",
    "np.random.seed(0)\n",
    "points = np.random.randn(2000, 3)\n",
    "\n",
    "# Relax the points.\n",
    "for i in range(40):\n",
    "    points += easypde.pointcloud.repulsive_force(points, points, 5./40, 10.)*0.01\n",
    "    points /= np.sqrt(np.sum(np.square(points), axis=-1)).reshape((-1, 1))\n",
    "\n",
    "# Fill matrix A.\n",
    "np.random.seed(0)\n",
    "A = np.zeros((len(points), len(points)))\n",
    "weight_distribution_radius = easypde.pointcloud.get_typical_distance(points)*0.1\n",
    "for i, point in enumerate(points):\n",
    "    easypde.edit_A(i, A, points, point, 16, [0, 0, 0, 1, 0, 1],\n",
    "                   weight_distribution_radius=weight_distribution_radius,\n",
    "                   space_type='subspace', basis_of_subspace=easypde.math.get_perpendicular_subspace([point]))\n",
    "\n",
    "# Calculate eigenvalues and eigenvectors of A.\n",
    "eig = np.linalg.eig(A)\n",
    "\n",
    "plt.plot(np.sort(np.abs(eig[0]))[:40], 'o')  # Plot eigenvalues."
   ]
  },
  {
   "cell_type": "code",
   "execution_count": 6,
   "id": "f41ef82c",
   "metadata": {},
   "outputs": [],
   "source": [
    "np.random.seed(0)\n",
    "A = np.zeros((len(points), len(points)))\n",
    "weight_distribution_radius = easypde.pointcloud.get_typical_distance(points)*0.1\n",
    "for i, point in enumerate(points):\n",
    "    easypde.edit_A(i, A, points, point, 16, [0, 0, 0, 1, 0, 1.1],\n",
    "                   weight_distribution_radius=weight_distribution_radius,\n",
    "                   space_type='subspace', basis_of_subspace=easypde.math.get_perpendicular_subspace([point], guide_directions=[[0, 0, 1]]))\n",
    "    \n",
    "# Calculate eigenvalues and eigenvectors of A.\n",
    "eig = np.linalg.eig(A)\n",
    "\n",
    "# Visualize the 22th eigenvector.\n",
    "eigenvector_id = 21\n",
    "easypde.plot_points((points.T*np.abs(eig[1].T[np.lexsort([np.abs(eig[0])])[eigenvector_id]])).T,\n",
    "                    field=np.real(eig[1].T[np.lexsort([np.abs(eig[0])])[eigenvector_id]]), point_size=17)"
   ]
  },
  {
   "cell_type": "code",
   "execution_count": null,
   "id": "ca90b8a6",
   "metadata": {},
   "outputs": [],
   "source": []
  }
 ],
 "metadata": {
  "kernelspec": {
   "display_name": "base",
   "language": "python",
   "name": "python3"
  },
  "language_info": {
   "codemirror_mode": {
    "name": "ipython",
    "version": 3
   },
   "file_extension": ".py",
   "mimetype": "text/x-python",
   "name": "python",
   "nbconvert_exporter": "python",
   "pygments_lexer": "ipython3",
   "version": "3.12.3"
  }
 },
 "nbformat": 4,
 "nbformat_minor": 5
}
